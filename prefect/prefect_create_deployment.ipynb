{
 "cells": [
  {
   "cell_type": "code",
   "id": "initial_id",
   "metadata": {
    "collapsed": true
   },
   "source": [
    "import os\n",
    "import re\n",
    "from pathlib import Path"
   ],
   "outputs": [],
   "execution_count": null
  },
  {
   "metadata": {},
   "cell_type": "code",
   "source": [
    "prefect_version = \"3.0.1\"  # ie. '3.0.1' # str\n",
    "\n",
    "src_root = \"/prefect/src\"  # str\n",
    "local_root = \"d:/Git/thinkstack_data_etl/src\"  # str\n",
    "src_folder = f\"{local_root}/src/staging\"  # str\n",
    "output_folder = \"d:/exports/prefect_jobs\"  # str"
   ],
   "id": "cb765e4189ec07c8",
   "outputs": [],
   "execution_count": null
  },
  {
   "metadata": {},
   "cell_type": "code",
   "source": [
    "def create_deployment_yaml(\n",
    "        project_name: str = \"undefined\",\n",
    "        project_dir: str = \"staging/api/undefined\",\n",
    "        deployment_name: str = \"undefined\",\n",
    "        entrypoint: str = \"module.py:function\",\n",
    "        worker_pool: str = \"default-worker-pool\",  # str\n",
    "        schedule_interval: float = 3600.0,  # float\n",
    "        schedule_timezone: str = \"UTC\",  # str -> 'UTC' \n",
    "        schedule_active: str = 'true'  # str -> 'true' | 'false'\n",
    ") -> None:\n",
    "    # prefect.yaml body template\n",
    "    yaml_body = f\"\"\"# Welcome to your prefect.yaml file! You can use this file for storing and managing\n",
    "# configuration for deploying your flows. We recommend committing this file to source\n",
    "# control along with your flow code.\n",
    "\n",
    "# Generic metadata about this project\n",
    "name: {project_name}\n",
    "prefect-version: {prefect_version}\n",
    "\n",
    "# build section allows you to manage and build docker images\n",
    "build: null\n",
    "\n",
    "# push section allows you to manage if and how this project is uploaded to remote locations\n",
    "push: null\n",
    "\n",
    "# pull section allows you to provide instructions for cloning this project in remote locations\n",
    "pull:\n",
    "- prefect.deployments.steps.set_working_directory:\n",
    "    directory: {src_root}\n",
    "\n",
    "# the deployments section allows you to provide configuration for deploying flows\n",
    "deployments:\n",
    "- name: {deployment_name}\n",
    "  version: null\n",
    "  tags: []\n",
    "  concurrency_limit: null\n",
    "  description: null\n",
    "  entrypoint: {entrypoint}\n",
    "  parameters: {{ }}\n",
    "  work_pool:\n",
    "    name: {worker_pool}\n",
    "    work_queue_name: null\n",
    "    job_variables: {{ }}\n",
    "enforce_parameter_schema: true\n",
    "schedules:\n",
    "- interval: {schedule_interval}\n",
    "  anchor_date: '2024-01-01T01:00:00+00:00'\n",
    "  timezone: {schedule_timezone}\n",
    "  active: {schedule_active}\n",
    "  max_active_runs: null\n",
    "  catchup: false\n",
    "\"\"\".lstrip()\n",
    "\n",
    "    # Create the directory if it doesn't exist\n",
    "    Path(output_folder).mkdir(parents=True, exist_ok=True)\n",
    "    # Create the deployment directory if it doesn't exist\n",
    "    # Path(f\"{output_folder}/{deployment_name}\").mkdir(parents=True, exist_ok=True)\n",
    "\n",
    "    # Write the yaml file    \n",
    "    with open(f\"{output_folder}/{deployment_name}-deploy.yaml\", \"w\") as f:\n",
    "        f.write(yaml_body)"
   ],
   "id": "e76530636dee2f69",
   "outputs": [],
   "execution_count": null
  },
  {
   "metadata": {},
   "cell_type": "code",
   "source": [
    "for root, dirs, files in os.walk(local_root):\n",
    "    for d in dirs:\n",
    "        if d == 'src':\n",
    "            for file in os.listdir(f\"{root}/{d}\"):\n",
    "                if file.endswith(\".py\"):\n",
    "                    deployment = file.split(\".\")[0]\n",
    "                    print(f\"Creating deployment for {deployment}\")\n",
    "                    create_deployment_yaml(\n",
    "                        project_name=os.path.basename(root),\n",
    "                        project_dir=f\"{root}/{d}\".replace(\"\\\\\", \"/\").replace(local_root, src_root),\n",
    "                        deployment_name=deployment,\n",
    "                        entrypoint= \\\n",
    "                            f\"{root}/{d}/{deployment}.py:{deployment}\".replace(\"\\\\\", \"/\").replace(local_root, src_root),\n",
    "                        worker_pool=\"default-worker-pool\",\n",
    "                        schedule_interval=3600.0,  # 1 hour\n",
    "                        schedule_timezone=\"UTC\",  # UTC timezone\n",
    "                        schedule_active='true'  # Active schedule\n",
    "                    )"
   ],
   "id": "b61edb7e089bf9db",
   "outputs": [],
   "execution_count": null
  }
 ],
 "metadata": {
  "kernelspec": {
   "display_name": "Python 3",
   "language": "python",
   "name": "python3"
  },
  "language_info": {
   "codemirror_mode": {
    "name": "ipython",
    "version": 2
   },
   "file_extension": ".py",
   "mimetype": "text/x-python",
   "name": "python",
   "nbconvert_exporter": "python",
   "pygments_lexer": "ipython2",
   "version": "2.7.6"
  }
 },
 "nbformat": 4,
 "nbformat_minor": 5
}
