{
 "cells": [
  {
   "metadata": {
    "collapsed": true,
    "ExecuteTime": {
     "end_time": "2025-07-11T11:18:08.766353Z",
     "start_time": "2025-07-11T11:17:46.746627Z"
    }
   },
   "cell_type": "code",
   "source": [
    "import sys\n",
    "import numpy as np\n",
    "import os\n",
    "from PIL import Image, ImageOps\n",
    "from pathlib import Path\n",
    "from potrace import Bitmap, POTRACE_TURNPOLICY_MINORITY  # `potracer` library\n",
    "\n",
    "\n",
    "def file_to_svg(filename: str):\n",
    "    \"\"\"\n",
    "    Converts a raster image (PNG, JPEG, etc.) into an SVG vector graphic using the Potrace algorithm.\n",
    "\n",
    "    This function loads a given image file, applies histogram equalization to enhance contrast,\n",
    "    then traces the resulting bitmap to generate smooth vector paths. The output is saved as an\n",
    "    SVG file with the same base filename as the input.\n",
    "\n",
    "    Parameters:\n",
    "    -----------\n",
    "    filename : str\n",
    "        Path to the input image file.\n",
    "\n",
    "    Notes:\n",
    "    ------\n",
    "    - Uses the `potracer` library's Bitmap tracing functionality.\n",
    "    - Outputs a single black-filled SVG path representing the image silhouette or edge detail.\n",
    "    - Histogram equalization via PIL's ImageOps helps normalize brightness levels.\n",
    "    - The `blacklevel` and `alphamax` parameters affect the tracing fidelity.\n",
    "\n",
    "    Output:\n",
    "    -------\n",
    "    Saves an SVG file to the same directory as the input image.\n",
    "\n",
    "    Example:\n",
    "    --------\n",
    "    >>> file_to_svg(\"curtain_photo.png\")\n",
    "    # Creates \"curtain_photo.svg\" in the same directory.\n",
    "    \"\"\"\n",
    "\n",
    "    try:\n",
    "        print(f'Loading image {filename}...')\n",
    "\n",
    "        image = Image.open(filename)\n",
    "        image = ImageOps.equalize(image)\n",
    "        # image = image.convert(\"L\")  # Convert to 8-bit grayscale\n",
    "        # image = image.convert(\"1\")  # 1-bit black and white (hard threshold)\n",
    "\n",
    "\n",
    "        # avg = int(np.array(image).mean())\n",
    "        # image = image.point(lambda p: 0 if p < avg else 255, \"1\")\n",
    "\n",
    "    except Exception as e:\n",
    "        print(f'Failed to load image {filename}: {e}')\n",
    "        return\n",
    "    bm = Bitmap(image, blacklevel=.250)\n",
    "    # bm.invert()\n",
    "    plist = bm.trace(\n",
    "        turdsize=1,\n",
    "        turnpolicy=POTRACE_TURNPOLICY_MINORITY,\n",
    "        alphamax=20,\n",
    "        opticurve=False,\n",
    "        opttolerance=0.4,\n",
    "    )\n",
    "    with open(f\"{os.path.splitext(filename)[0]}.svg\", \"w\") as fp:\n",
    "        fp.write(\n",
    "            f'''<svg version=\"1.1\" xmlns=\"http://www.w3.org/2000/svg\" xmlns:xlink=\"http://www.w3.org/1999/xlink\" width=\"{image.width}\" height=\"{image.height}\" viewBox=\"0 0 {image.width} {image.height}\">''')\n",
    "        parts = []\n",
    "        for curve in plist:\n",
    "            fs = curve.start_point\n",
    "            parts.append(f\"M{fs.x},{fs.y}\")\n",
    "            for segment in curve.segments:\n",
    "                if segment.is_corner:\n",
    "                    a = segment.c\n",
    "                    b = segment.end_point\n",
    "                    parts.append(f\"L{a.x},{a.y}L{b.x},{b.y}\")\n",
    "                else:\n",
    "                    a = segment.c1\n",
    "                    b = segment.c2\n",
    "                    c = segment.end_point\n",
    "                    parts.append(f\"C{a.x},{a.y} {b.x},{b.y} {c.x},{c.y}\")\n",
    "            parts.append(\"z\")\n",
    "        fp.write(f'<path stroke=\"none\" fill=\"black\" fill-rule=\"evenodd\" d=\"{\"\".join(parts)}\"/>')\n",
    "        fp.write(\"</svg>\")\n",
    "\n",
    "#\n",
    "# if __name__ == '__main__':\n",
    "#     file_to_svg(sys.argv[1])\n",
    "\n",
    "\n",
    "source_dir = Path('/mnt/mls/data/gabemcwilliams_info')\n",
    "file_to_svg(source_dir / 'stage_main.png')"
   ],
   "id": "60283da6ae0c7c59",
   "outputs": [
    {
     "name": "stdout",
     "output_type": "stream",
     "text": [
      "Loading image /mnt/mls/data/gabemcwilliams_info/stage_main.png...\n"
     ]
    }
   ],
   "execution_count": 37
  },
  {
   "metadata": {},
   "cell_type": "code",
   "outputs": [],
   "execution_count": null,
   "source": "",
   "id": "205a8caf6977ec6f"
  }
 ],
 "metadata": {
  "kernelspec": {
   "display_name": "Python 3",
   "language": "python",
   "name": "python3"
  },
  "language_info": {
   "codemirror_mode": {
    "name": "ipython",
    "version": 2
   },
   "file_extension": ".py",
   "mimetype": "text/x-python",
   "name": "python",
   "nbconvert_exporter": "python",
   "pygments_lexer": "ipython2",
   "version": "2.7.6"
  }
 },
 "nbformat": 4,
 "nbformat_minor": 5
}
